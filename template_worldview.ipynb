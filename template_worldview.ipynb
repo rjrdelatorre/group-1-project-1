{
 "cells": [
  {
   "cell_type": "code",
   "execution_count": null,
   "id": "0b7c6ea8",
   "metadata": {},
   "outputs": [],
   "source": [
    "#Import the appropriate libraries\n",
    "import pandas as pd\n",
    "import numpy as np\n",
    "import matplotlib.pyplot as plt\n",
    "import matplotlib.pyplot as plt\n",
    "from scipy.stats import zscore\n",
    "import seaborn as sns\n",
    "\n",
    "#This can be removed after the first run\n",
    "%pip install scipy\n"
   ]
  },
  {
   "cell_type": "markdown",
   "id": "3ce5378a",
   "metadata": {},
   "source": [
    "Objective\n",
    "The goal is to investigate whether or not there is a \"home field advantage\" for a nation that hosts the Olympic games. This analysis will study the Chinese olympic team, and try to determine if there was an unusually high improvement in performance during the 2008 Summer Olympic Games in Beijing.\n",
    "\n",
    "Metrics to Produce\n",
    "We will look at the following metrics in order to check for a host advantage, considering medal count as the measure for success in an Olympic Games:\n",
    "\n",
    "Medal count trends:\n",
    "Did the total medal count increase during the hosted olympics?\n",
    "How many standard deviations (z-score) from the average medal count across all olympic games was the medal count for the hosted games?\n",
    "Where did the host country place on the total medal rankings in their hosted games vs. other games?\n",
    "How did the host country's performance metrics compare to the rest of the world's metrics? Does that tell us anything?"
   ]
  },
  {
   "cell_type": "code",
   "execution_count": null,
   "id": "43602f82",
   "metadata": {},
   "outputs": [],
   "source": [
    "#read CSV file into a dataframe\n",
    "olympics_path = \"resources/athlete_events.csv\"\n",
    "\n",
    "olympics_df = pd.read_csv(olympics_path, low_memory = False)\n",
    "\n",
    "#view the first 5 rows\n",
    "olympics_df.head(5)"
   ]
  },
  {
   "cell_type": "code",
   "execution_count": null,
   "id": "2926d464",
   "metadata": {},
   "outputs": [],
   "source": [
    "# use only the Summer Olympics for Analysis\n",
    "summer_df = olympics_df[olympics_df['Season'] == 'Summer']\n"
   ]
  },
  {
   "cell_type": "code",
   "execution_count": null,
   "id": "8e1377a7",
   "metadata": {},
   "outputs": [],
   "source": [
    "#Create variables for the specific host country\n",
    "host_country = 'INSERT HOST COUNTRY HERE'\n",
    "host_NOC = 'INSERT HOST NOC HERE'\n",
    "host_year = 'INSERT HOST YEAR HERE'\n",
    "host_city = 'INSERT HOST CITY HERE'\n",
    "\n",
    "# create a dataframe for only the host country, where the host value is anywhere in the team name\n",
    "host_df = summer_df[summer_df['Team'].str.contains(host_country, case=False)]\n",
    "\n",
    "# print the unique values of various host columns to see if they are all related to the host country we are looking for\n",
    "print(host_df['Team'].unique())\n",
    "print(host_df['NOC'].unique())\n",
    "print(host_df['City'].unique())\n",
    "\n",
    "# Clean up the Team column to have ensure a single value for host\n",
    "host_df.loc[:, 'Team'] = host_country\n",
    "print(host_df['Team'].unique())\n",
    "\n",
    "# It looks like NOC is a more accurate way to describe the country's team,\n",
    "# and doesn't pose as many issues as the Team column does (e.g. \"China-1\", \"China-2\", etc.)\n",
    "# Let's use NOC instead of Team for the rest of the analysis."
   ]
  },
  {
   "cell_type": "code",
   "execution_count": null,
   "id": "4bbdc0ba",
   "metadata": {},
   "outputs": [],
   "source": [
    "# create a dataframe where NOC is not related to the host country\n",
    "rest_of_world_df = summer_df[summer_df['NOC'] != host_NOC]\n",
    "\n",
    "# Clean up the team names to have only the country name\n",
    "# if \"-\" appears in the team name, use only the part of the string that comes before \"-\"\n",
    "rest_of_world_df.loc[:, 'Team'] = rest_of_world_df['Team'].str.split('-').str[0]"
   ]
  },
  {
   "cell_type": "code",
   "execution_count": null,
   "id": "49c35548",
   "metadata": {},
   "outputs": [],
   "source": [
    "# create a dataframe that is the rest_of_world_df (referred to now as rw) grouped by Games, then NOC\n",
    "# We can use this to calculate medal counts for each country in each Games\n",
    "games_df_rw = rest_of_world_df.groupby(['Games', 'NOC']).agg({'Medal': 'count'}).reset_index()\n",
    "\n",
    "# Add columns for gold_medals, silver_medals, bronze_medals and total_medals\n",
    "# This will be, for each NOC, the sum of the medals won in each category for each games\n",
    "games_df_rw['gold_medals'] = rest_of_world_df[rest_of_world_df['Medal'] == 'Gold'].groupby(['Games', 'NOC']).agg({'Medal': 'count'}).reset_index()['Medal']\n",
    "games_df_rw['silver_medals'] = rest_of_world_df[rest_of_world_df['Medal'] == 'Silver'].groupby(['Games', 'NOC']).agg({'Medal': 'count'}).reset_index()['Medal']\n",
    "games_df_rw['bronze_medals'] = rest_of_world_df[rest_of_world_df['Medal'] == 'Bronze'].groupby(['Games', 'NOC']).agg({'Medal': 'count'}).reset_index()['Medal']\n",
    "\n",
    "# create a clean column for total medals\n",
    "games_df_rw['total_medals'] = games_df_rw['Medal'] + games_df_rw['gold_medals'] + games_df_rw['silver_medals'] + games_df_rw['bronze_medals']\n",
    "\n",
    "# fill NaN values with 0\n",
    "games_df_rw = games_df_rw.fillna(0)\n",
    "\n",
    "# format values in all columns except Games to integers\n",
    "games_df_rw = games_df_rw.astype({'Medal': 'int', 'gold_medals': 'int', 'silver_medals': 'int', 'bronze_medals': 'int'})\n",
    "\n",
    "#View the dataframe\n",
    "\n",
    "games_df_rw"
   ]
  },
  {
   "cell_type": "code",
   "execution_count": null,
   "id": "253f8aab",
   "metadata": {},
   "outputs": [],
   "source": [
    "# create a dataframe for the host country in the Summer Olympics grouped by Games.\n",
    "games_df_host = host_df.groupby('Games').agg({'Medal': 'count'})\n",
    "\n",
    "# Add columns for gold_medals, silver_medals, bronze_medals and total_medals\n",
    "games_df_host['gold_medals'] = host_df[host_df['Medal'] == 'Gold'].groupby('Games').agg({'Medal': ['count']})\n",
    "games_df_host['silver_medals'] = host_df[host_df['Medal'] == 'Silver'].groupby('Games').agg({'Medal': ['count']})\n",
    "games_df_host['bronze_medals'] = host_df[host_df['Medal'] == 'Bronze'].groupby('Games').agg({'Medal': ['count']})\n",
    "\n",
    "# fill NaN values with 0\n",
    "games_df_host = games_df_host.fillna(0)\n",
    "\n",
    "# format values in all columns except Games to integers\n",
    "games_df_host = games_df_host.astype(int)\n",
    "\n",
    "#View the dataframe\n",
    "games_df_host"
   ]
  },
  {
   "cell_type": "code",
   "execution_count": null,
   "id": "9fd6e898",
   "metadata": {},
   "outputs": [],
   "source": [
    "# create a cleaner \"total_medals\" column\n",
    "games_df_host['total_medals'] = games_df_host[['gold_medals', 'silver_medals', 'bronze_medals']].sum(axis=1)\n",
    "\n",
    "# Add a column for non-medal participations, which is the count of all rows for Games where Medal is NaN\n",
    "games_df_host['non_medal_participations'] = host_df[host_df['Medal'].isnull()].groupby('Games').size()\n",
    "\n",
    "# Add a column for total participations, which is the count of all rows for Games.\n",
    "# This includes 0 or NaN values for medals\n",
    "games_df_host['total_participations'] = host_df.groupby('Games').size()\n",
    "games_df_host"
   ]
  },
  {
   "cell_type": "code",
   "execution_count": null,
   "id": "70b575d2",
   "metadata": {},
   "outputs": [],
   "source": [
    "# Create a column called 'medal_rate' which is the ratio of medal count to total participation count\n",
    "games_df_host['medal_rate'] = games_df_host['total_medals'] / games_df_host['total_participations']\n",
    "games_df_host"
   ]
  },
  {
   "cell_type": "code",
   "execution_count": null,
   "id": "ec184055",
   "metadata": {},
   "outputs": [],
   "source": [
    "# create columns called gold_percentage, silver_percentage, bronze_percentage and non_medal_percentage\n",
    "games_df_host['gold_percentage'] = games_df_host['gold_medals'] / games_df_host['total_medals']\n",
    "games_df_host['silver_percentage'] = games_df_host['silver_medals'] / games_df_host['total_medals']\n",
    "games_df_host['bronze_percentage'] = games_df_host['bronze_medals'] / games_df_host['total_medals']\n",
    "games_df_host['non_medal_percentage'] = games_df_host['non_medal_participations'] / games_df_host['total_participations']\n",
    "\n",
    "games_df_host"
   ]
  },
  {
   "cell_type": "code",
   "execution_count": null,
   "id": "d4ce3479",
   "metadata": {},
   "outputs": [],
   "source": [
    "# Plot the gold_medals, silver_medals, bronze_medals and non_medal_participations for the host country in the Summer Olympics.\n",
    "# Use a stacked bar chart, where the total size of the bar is the total_participations\n",
    "\n",
    "games_df_host[['gold_medals', 'silver_medals', 'bronze_medals']].plot(\n",
    "                                    kind='bar',\n",
    "                                    stacked=True,\n",
    "                                    figsize=(20, 10),\n",
    "                                    color=['#ffd700', '#c0c0c0', '#cd7f32'],\n",
    "                                    title='Medals Won by INSERT HOST NAME in the Summer Olympics',)\n",
    "\n",
    "# use #ffd700 for gold, #c0c0c0 for silver and #cd7f32 for bronze"
   ]
  },
  {
   "cell_type": "code",
   "execution_count": null,
   "id": "515a1631",
   "metadata": {},
   "outputs": [],
   "source": [
    "#Create a different visualization for the same data\n",
    "sns.set_theme(style=\"whitegrid\")\n",
    "\n",
    "# use #ffd700 for gold, #c0c0c0 for silver and #cd7f32 for bronze\n",
    "plt.figure(figsize=(20, 10))\n",
    "plt.xticks(rotation='vertical')\n",
    "data = games_df_host[['gold_medals', 'silver_medals', 'bronze_medals']]\n",
    "palette = {'gold_medals': '#ffd700', 'silver_medals': '#c0c0c0', 'bronze_medals': '#cd7f32'}\n",
    "sns.lineplot(data=data, palette=palette, linewidth=4.5, dashes=False), plt.title('Medals Won by [INSERT COUNTRY] in the Summer Olympics')\n",
    "\n",
    "#Save Image for Use in Slides\n",
    "plt.savefig('resources/medals_won_host_linegraph.png')"
   ]
  },
  {
   "cell_type": "code",
   "execution_count": null,
   "id": "26df3df3",
   "metadata": {},
   "outputs": [],
   "source": [
    "# Use a line chart to plot the medal_rate for the host country in the Summer Olympics.\n",
    "games_df_host['medal_rate'].plot(kind='line', figsize=(20, 10), title='Medal Rate for [INSERT COUNTRY] in the Summer Olympics')"
   ]
  },
  {
   "cell_type": "code",
   "execution_count": null,
   "id": "0c40e191",
   "metadata": {},
   "outputs": [],
   "source": [
    "# Use a line chart to plot the medal count for the host country in the Summer Olympics.\n",
    "games_df_host['total_medals'].plot(kind='line', figsize=(20, 10))"
   ]
  },
  {
   "cell_type": "code",
   "execution_count": null,
   "id": "a34a3d3b",
   "metadata": {},
   "outputs": [],
   "source": [
    "# Calculate the average medal count for your assigned team for the summer olympics\n",
    "average_medal_count_host = games_df_host['total_medals'].mean()\n",
    "print(average_medal_count_host)\n",
    "\n",
    "# Calculate the average medal count for your assigned team  in the games where they won at least one medal\n",
    "average_medal_count_host_won = games_df_host[games_df_host['total_medals'] > 0]['total_medals'].mean()\n",
    "print(average_medal_count_host_won)"
   ]
  },
  {
   "cell_type": "code",
   "execution_count": null,
   "id": "2d5251f4",
   "metadata": {},
   "outputs": [],
   "source": [
    "# Show the medal count for the host year Summer Games\n",
    "games_df_host.loc[f'{host_year} Summer']\n",
    "\n"
   ]
  },
  {
   "cell_type": "code",
   "execution_count": null,
   "id": "577e9e28",
   "metadata": {},
   "outputs": [],
   "source": [
    "# add z_scores column to the games_df_host dataframe\n",
    "games_df_host['z_scores'] = zscore(games_df_host['total_medals'])\n",
    "games_df_host"
   ]
  },
  {
   "cell_type": "code",
   "execution_count": null,
   "id": "ab9f5236",
   "metadata": {},
   "outputs": [],
   "source": [
    "# Plot the distribution of the medal count for the host country in the Summer Olympics\n",
    "sns.histplot(games_df_host['total_medals'], bins=10, kde=True)"
   ]
  },
  {
   "cell_type": "code",
   "execution_count": null,
   "id": "40538fb6",
   "metadata": {},
   "outputs": [],
   "source": [
    "mean_total_medals_host = games_df_host[games_df_host.index != f'{host_year} Summer']['total_medals'].mean()\n",
    "print(mean_total_medals_host)\n",
    "\n",
    "z_score_total_medals_host = zscore(games_df_host[games_df_host.index != f'{host_year} Summer']['total_medals'])\n",
    "print(z_score_total_medals_host)"
   ]
  },
  {
   "cell_type": "code",
   "execution_count": 13,
   "id": "8dbc2260",
   "metadata": {},
   "outputs": [
    {
     "name": "stdout",
     "output_type": "stream",
     "text": [
      "[INSERT COUNTRY] f{host_year} Medal Count for the Rest of the World:\n"
     ]
    },
    {
     "data": {
      "text/html": [
       "<div>\n",
       "<style scoped>\n",
       "    .dataframe tbody tr th:only-of-type {\n",
       "        vertical-align: middle;\n",
       "    }\n",
       "\n",
       "    .dataframe tbody tr th {\n",
       "        vertical-align: top;\n",
       "    }\n",
       "\n",
       "    .dataframe thead th {\n",
       "        text-align: right;\n",
       "    }\n",
       "</style>\n",
       "<table border=\"1\" class=\"dataframe\">\n",
       "  <thead>\n",
       "    <tr style=\"text-align: right;\">\n",
       "      <th></th>\n",
       "      <th>Games</th>\n",
       "      <th>NOC</th>\n",
       "      <th>Medal</th>\n",
       "    </tr>\n",
       "  </thead>\n",
       "  <tbody>\n",
       "  </tbody>\n",
       "</table>\n",
       "</div>"
      ],
      "text/plain": [
       "Empty DataFrame\n",
       "Columns: [Games, NOC, Medal]\n",
       "Index: []"
      ]
     },
     "execution_count": 13,
     "metadata": {},
     "output_type": "execute_result"
    }
   ],
   "source": [
    "# Using our games_df_rw dataframe, let's get the Summer Games data\n",
    "summer_host_yr_rw = games_df_rw[games_df_rw['Games'] == f'{host_year} Summer']\n",
    "\n",
    "# let's order this data by descending medal count\n",
    "summer_host_yr_rw = summer_host_yr_rw.sort_values(by='Medal', ascending=False)\n",
    "\n",
    "# let's only use the Games, NOC, and Medal columns\n",
    "summer_host_yr_rw_short = summer_host_yr_rw[['Games', 'NOC', 'Medal']]\n",
    "print('Medal Count for the Rest of the World:')\n",
    "summer_host_yr_rw_short.head()"
   ]
  },
  {
   "cell_type": "code",
   "execution_count": null,
   "id": "f37ffd92",
   "metadata": {},
   "outputs": [],
   "source": [
    "# Let's calculate the average medal count for the rest of the world in the Summer Olympics\n",
    "average_medal_count_rw_host_yr = summer_host_yr_rw['Medal'].mean()\n",
    "average_medal_count_rw_host_yr"
   ]
  }
 ],
 "metadata": {
  "kernelspec": {
   "display_name": "dev",
   "language": "python",
   "name": "python3"
  },
  "language_info": {
   "codemirror_mode": {
    "name": "ipython",
    "version": 3
   },
   "file_extension": ".py",
   "mimetype": "text/x-python",
   "name": "python",
   "nbconvert_exporter": "python",
   "pygments_lexer": "ipython3",
   "version": "3.11.9"
  }
 },
 "nbformat": 4,
 "nbformat_minor": 5
}
