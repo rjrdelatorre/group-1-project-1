{
 "cells": [
  {
   "cell_type": "code",
   "execution_count": null,
   "id": "2e55e8da-4bc5-45b9-9b9e-7284e83149dd",
   "metadata": {},
   "outputs": [],
   "source": [
    "# Analysis for Japan\n",
    "\n",
    "# Install and import the appropriate libraries and dependencies.\n",
    "!pip install prophet\n",
    "import pandas as pd\n",
    "import numpy as np\n",
    "import datetime as dt\n",
    "from prophet import Prophet\n",
    "%matplotlib inline"
   ]
  }
 ],
 "metadata": {
  "kernelspec": {
   "display_name": "dev",
   "language": "python",
   "name": "dev"
  },
  "language_info": {
   "codemirror_mode": {
    "name": "ipython",
    "version": 3
   },
   "file_extension": ".py",
   "mimetype": "text/x-python",
   "name": "python",
   "nbconvert_exporter": "python",
   "pygments_lexer": "ipython3",
   "version": "3.10.13"
  }
 },
 "nbformat": 4,
 "nbformat_minor": 5
}
